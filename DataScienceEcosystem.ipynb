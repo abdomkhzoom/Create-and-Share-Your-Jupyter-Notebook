{
 "cells": [
  {
   "cell_type": "code",
   "execution_count": 22,
   "id": "807c7ff1-ea86-4b94-b056-6989320fb453",
   "metadata": {},
   "outputs": [],
   "source": [
    "# Data Science Tools and Ecosystem"
   ]
  },
  {
   "cell_type": "markdown",
   "id": "706d0548-7d9c-44f8-9f89-eb11acc01c18",
   "metadata": {},
   "source": [
    "# In this notebook, Data Science Tools and Ecosystem are summarized.\n",
    "\n",
    "## Some of the popular languages that Data Scientists use are:\n"
   ]
  },
  {
   "cell_type": "markdown",
   "id": "e0d7626d-0f39-4b7d-8eba-10449d7bd3e3",
   "metadata": {},
   "source": [
    "### Some of the popular languages that Data Scientists use are:\n",
    "1. Python\n",
    "2. Java\n",
    "3. C\n",
    "4. C++"
   ]
  },
  {
   "cell_type": "markdown",
   "id": "e3544a61-b721-47f4-bb7b-70c3eb548cf9",
   "metadata": {},
   "source": [
    "### Some of the commonly used libraries used by Data Scientists include:\n",
    "1. Pandas\n",
    "2. NumPy\n",
    "3. Matplotlib\n",
    "4. TensorFlow"
   ]
  },
  {
   "cell_type": "markdown",
   "id": "6dfaedf3-955c-46c6-bbd8-55046acb5ce9",
   "metadata": {},
   "source": [
    "| Data Science Tools      |\n",
    "|-------------------------|\n",
    "| Jupyter Notebook        |\n",
    "| RStudio                 |\n",
    "| GİT HUB                 |"
   ]
  },
  {
   "cell_type": "markdown",
   "id": "c22ba04e-b6f3-4c71-b1de-db0fb6358227",
   "metadata": {},
   "source": [
    "# Introduction to Arithmetic Expressions in Python\n",
    "\n",
    "Arithmetic expressions in Python allow us to perform basic mathematical operations such as addition, subtraction, multiplication.\n",
    "\n",
    "### Below are a few examples of evaluating arithmetic expressions in Python"
   ]
  },
  {
   "cell_type": "code",
   "execution_count": 52,
   "id": "2e726b2a-5adf-4ed8-a633-90b7785d2a89",
   "metadata": {},
   "outputs": [
    {
     "data": {
      "text/plain": [
       "17"
      ]
     },
     "execution_count": 52,
     "metadata": {},
     "output_type": "execute_result"
    }
   ],
   "source": [
    "## This a simple arithmetic expression to mutiply then add integers\n",
    "(3*4)+5"
   ]
  },
  {
   "cell_type": "code",
   "execution_count": 60,
   "id": "05677fc2-6628-4d24-984d-231dc8cfb94d",
   "metadata": {},
   "outputs": [
    {
     "data": {
      "text/plain": [
       "3.3333333333333335"
      ]
     },
     "execution_count": 60,
     "metadata": {},
     "output_type": "execute_result"
    }
   ],
   "source": [
    "## This will convert 200 minutes to hours by diving by \n",
    "200 / 60"
   ]
  },
  {
   "cell_type": "markdown",
   "id": "ec604769-c592-4a7e-8657-b828635b5e3c",
   "metadata": {},
   "source": [
    "## Objectives :\n",
    "- PAYTHON\n",
    "- C ++\n",
    "- JAVA\n",
    "- C"
   ]
  },
  {
   "cell_type": "markdown",
   "id": "b5d26604-6033-46a9-ae8a-d1418651e070",
   "metadata": {},
   "source": [
    "## Author\n",
    "### ABDULRAHMAN MAHZUN."
   ]
  },
  {
   "cell_type": "code",
   "execution_count": null,
   "id": "81231465-1626-4be2-802e-6edb84206e79",
   "metadata": {},
   "outputs": [],
   "source": []
  }
 ],
 "metadata": {
  "kernelspec": {
   "display_name": "Python [conda env:base] *",
   "language": "python",
   "name": "conda-base-py"
  },
  "language_info": {
   "codemirror_mode": {
    "name": "ipython",
    "version": 3
   },
   "file_extension": ".py",
   "mimetype": "text/x-python",
   "name": "python",
   "nbconvert_exporter": "python",
   "pygments_lexer": "ipython3",
   "version": "3.12.7"
  }
 },
 "nbformat": 4,
 "nbformat_minor": 5
}
